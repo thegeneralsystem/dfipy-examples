{
 "cells": [
  {
   "attachments": {},
   "cell_type": "markdown",
   "metadata": {},
   "source": [
    "# Limitations and challenges in mobility data: noise for a single device"
   ]
  },
  {
   "cell_type": "code",
   "execution_count": null,
   "metadata": {},
   "outputs": [],
   "source": [
    "from IPython.display import Image\n",
    "\n",
    "# Set to True to render the kepler map or altair charts when running the notebook in local\n",
    "# If False, screenshots will be shown instead\n",
    "INTERACTIVE_OUTPUT = False\n",
    "\n",
    "# If the platform allows to render gifs, set to True:\n",
    "RENDERING_GIF = False\n",
    "\n",
    "# Scaffolding to save the maps in html format:\n",
    "SAVE_HTML_MAPS = False"
   ]
  },
  {
   "cell_type": "markdown",
   "metadata": {},
   "source": [
    "## Noise classification"
   ]
  },
  {
   "cell_type": "code",
   "execution_count": null,
   "metadata": {},
   "outputs": [],
   "source": [
    "from helpers_visualisation import get_map, get_two_timestamp_histograms\n",
    "from noisyfier import Noisyfier, Sink\n",
    "from simulate_data import create_ideal_L_shape_trajectory__sydney\n",
    "\n",
    "df_noiseless_trajectory = create_ideal_L_shape_trajectory__sydney()\n",
    "\n",
    "noisifyier = Noisyfier(df_noiseless_trajectory)\n",
    "noisifyier.df_pings[20:30]"
   ]
  },
  {
   "cell_type": "code",
   "execution_count": null,
   "metadata": {},
   "outputs": [],
   "source": [
    "kmap = get_map(noisifyier)\n",
    "\n",
    "if INTERACTIVE_OUTPUT:\n",
    "    display(kmap)\n",
    "else:\n",
    "    display(Image(\"images/noise_0_trajectory_without_noise.png\"))\n",
    "\n",
    "if SAVE_HTML_MAPS:\n",
    "    kmap.save_to_html(\n",
    "        config=kmap.config.copy(),\n",
    "        file_name=\"maps/noise_0_trajectory_without_noise.html\",\n",
    "    )"
   ]
  },
  {
   "attachments": {},
   "cell_type": "markdown",
   "metadata": {},
   "source": [
    "## Spatial stationary radial noise"
   ]
  },
  {
   "cell_type": "code",
   "execution_count": null,
   "metadata": {},
   "outputs": [],
   "source": [
    "noisifyier = Noisyfier(df_noiseless_trajectory)\n",
    "noisifyier.spatial_stationary_spread(spread=5, noise_model=\"gaussian\")  # try also \"uniform\" and \"gumbel\"\n",
    "noisifyier.df_pings[20:30]"
   ]
  },
  {
   "cell_type": "code",
   "execution_count": null,
   "metadata": {},
   "outputs": [],
   "source": [
    "kmap = get_map(noisifyier)\n",
    "\n",
    "if INTERACTIVE_OUTPUT:\n",
    "    display(kmap)\n",
    "else:\n",
    "    display(Image(\"images/noise_1_spatial_stationary_noise.png\"))\n",
    "\n",
    "if SAVE_HTML_MAPS:\n",
    "    kmap.save_to_html(config=kmap.config, file_name=\"maps/noise_1_spatial_stationary_noise.html\")"
   ]
  },
  {
   "attachments": {},
   "cell_type": "markdown",
   "metadata": {},
   "source": [
    "## Temporal stationary radial noise"
   ]
  },
  {
   "cell_type": "code",
   "execution_count": null,
   "metadata": {},
   "outputs": [],
   "source": [
    "noisifyier = Noisyfier(df_noiseless_trajectory)\n",
    "noisifyier.temporal_stationary_spread(spread=40, noise_model=\"gumbel\")  # try also \"gaussian\" and \"uniform\"\n",
    "noisifyier.df_pings[20:30]"
   ]
  },
  {
   "cell_type": "code",
   "execution_count": null,
   "metadata": {},
   "outputs": [],
   "source": [
    "if INTERACTIVE_OUTPUT:\n",
    "    display(\n",
    "        get_two_timestamp_histograms(\n",
    "            df_pings1=df_noiseless_trajectory.copy(),\n",
    "            title1=\"Ground truth\",\n",
    "            df_pings2=noisifyier.df_pings,\n",
    "            title2=\"Temporal Radial Noise (Gaussian model)\",\n",
    "        )\n",
    "    )\n",
    "else:\n",
    "    display(Image(\"images/noise_2_temporal_stationary_spatial_noise.png\"))"
   ]
  },
  {
   "attachments": {},
   "cell_type": "markdown",
   "metadata": {},
   "source": [
    "## Spatial varying radial noise"
   ]
  },
  {
   "cell_type": "code",
   "execution_count": null,
   "metadata": {},
   "outputs": [],
   "source": [
    "noisifyier = Noisyfier(df_noiseless_trajectory)\n",
    "noisifyier.spatial_varying_spread(\n",
    "    lower_bound_sec=0,\n",
    "    upper_bound_sec=5 * 60,\n",
    "    lower_bound_spread_m=1,\n",
    "    upper_bound_spread_m=30,\n",
    "    keywords=(\"dwell\",),\n",
    "    noise_model=\"gaussian\",  # can be \"uniform\", \"gaussian\", \"gumbel\"\n",
    "    variational_model=\"periodic\",  # can be \"linear\" or \"periodic\"\n",
    ")\n",
    "noisifyier.spatial_varying_spread(\n",
    "    lower_bound_sec=0,\n",
    "    upper_bound_sec=180,\n",
    "    lower_bound_spread_m=1,\n",
    "    upper_bound_spread_m=8,\n",
    "    keywords=(\n",
    "        \"moving\",\n",
    "        \"entering\",\n",
    "    ),\n",
    "    noise_model=\"uniform\",\n",
    "    variational_model=\"linear\",\n",
    ")\n",
    "noisifyier.df_pings[20:30]"
   ]
  },
  {
   "cell_type": "code",
   "execution_count": null,
   "metadata": {},
   "outputs": [],
   "source": [
    "if RENDERING_GIF:\n",
    "    display(Image(\"images/noise_3_1_spatial_varying_radial_noise_slow.gif\"))\n",
    "\n",
    "if INTERACTIVE_OUTPUT:\n",
    "    display(\n",
    "        get_two_timestamp_histograms(\n",
    "            df_pings1=df_noiseless_trajectory.copy(),\n",
    "            title1=\"Ground truth\",\n",
    "            df_pings2=noisifyier.df_pings,\n",
    "            title2=\"Temporal Radial Noise (Gaussian model)\",\n",
    "        )\n",
    "    )\n",
    "else:\n",
    "    display(Image(\"images/noise_3_spatial_varying_radial_noise.png\"))"
   ]
  },
  {
   "attachments": {},
   "cell_type": "markdown",
   "metadata": {},
   "source": [
    "## Temporal varying radial noise\n"
   ]
  },
  {
   "cell_type": "code",
   "execution_count": null,
   "metadata": {},
   "outputs": [],
   "source": [
    "noisifyier = Noisyfier(df_noiseless_trajectory)\n",
    "noisifyier.temporal_varying_spread(\n",
    "    lower_bound_sec=0,\n",
    "    upper_bound_sec=60,\n",
    "    lower_bound_spread_sec=1,\n",
    "    upper_bound_spread_sec=20,\n",
    "    noise_model=\"gumbel\",  # can be \"uniform\", \"gaussian\", \"gumbel\"\n",
    "    variational_model=\"periodic\",  # can be \"linear\" or \"periodic\"\n",
    ")\n",
    "noisifyier.df_pings[20:30]"
   ]
  },
  {
   "cell_type": "code",
   "execution_count": null,
   "metadata": {},
   "outputs": [],
   "source": [
    "if INTERACTIVE_OUTPUT:\n",
    "    display(\n",
    "        get_two_timestamp_histograms(\n",
    "            df_pings1=df_noiseless_trajectory,\n",
    "            title1=\"Ground truth\",\n",
    "            df_pings2=noisifyier.df_pings,\n",
    "            title2=\"Temporal Progressive Radial Noise (Gaussian model)\",\n",
    "        )\n",
    "    )\n",
    "else:\n",
    "    display(Image(\"images/noise_4_time_varying_radial_noise.png\"))"
   ]
  },
  {
   "attachments": {},
   "cell_type": "markdown",
   "metadata": {},
   "source": [
    "## Missing points\n"
   ]
  },
  {
   "cell_type": "code",
   "execution_count": null,
   "metadata": {},
   "outputs": [],
   "source": [
    "noisifyier = Noisyfier(df_noiseless_trajectory)\n",
    "\n",
    "noisifyier.missing_points(\n",
    "    frequency=0.6,\n",
    "    reliability_model=\"uniform\",  # available options are \"uniform\", \"bathtub\", \"inverted_bathtub\", \"triangular_increasing\", \"triangular_decreasing\"\n",
    "    keywords=(),\n",
    ")\n",
    "\n",
    "noisifyier.missing_points(\n",
    "    frequency=0.4,\n",
    "    reliability_model=\"bathtub\",\n",
    "    keywords=(\"moving\",),\n",
    ")\n",
    "\n",
    "noisifyier.missing_points(frequency=0.90, reliability_model=\"triangular_increasing\", keywords=(\"dwell\",))\n",
    "\n",
    "noisifyier.spatial_stationary_spread(\n",
    "    spread=10,\n",
    "    noise_model=\"gaussian\",\n",
    "    keywords=(\"dwell\",),\n",
    ")"
   ]
  },
  {
   "cell_type": "code",
   "execution_count": null,
   "metadata": {},
   "outputs": [],
   "source": [
    "kmap = get_map(noisifyier)\n",
    "\n",
    "if INTERACTIVE_OUTPUT:\n",
    "    display(kmap)\n",
    "else:\n",
    "    display(Image(\"images/noise_5_missing_points.png\"))\n",
    "\n",
    "if SAVE_HTML_MAPS:\n",
    "    kmap.save_to_html(config=kmap.config, file_name=\"maps/noise_5_missing_points.html\")"
   ]
  },
  {
   "attachments": {},
   "cell_type": "markdown",
   "metadata": {},
   "source": [
    "## Erratic points\n"
   ]
  },
  {
   "cell_type": "code",
   "execution_count": null,
   "metadata": {},
   "outputs": [],
   "source": [
    "noisifyier = Noisyfier(df_noiseless_trajectory)\n",
    "noisifyier.seed = 108\n",
    "noisifyier.erratic_points(\n",
    "    frequency=0.03,\n",
    "    reliability_model=\"uniform\",\n",
    "    keywords=(\"moving\",),\n",
    "    buffer_width_meters=50,\n",
    "    total_sampling_for_erratic_points=1000,\n",
    ")"
   ]
  },
  {
   "cell_type": "code",
   "execution_count": null,
   "metadata": {},
   "outputs": [],
   "source": [
    "kmap = get_map(noisifyier)\n",
    "\n",
    "if INTERACTIVE_OUTPUT:\n",
    "    display(kmap)\n",
    "else:\n",
    "    display(Image(\"images/noise_6_erratic_points.png\"))\n",
    "\n",
    "if SAVE_HTML_MAPS:\n",
    "    kmap.save_to_html(config=kmap.config, file_name=\"maps/noise_6_erratic_points.html\")"
   ]
  },
  {
   "attachments": {},
   "cell_type": "markdown",
   "metadata": {},
   "source": [
    "## Gridding artefact"
   ]
  },
  {
   "cell_type": "code",
   "execution_count": null,
   "metadata": {},
   "outputs": [],
   "source": [
    "noisifyier = Noisyfier(df_noiseless_trajectory)\n",
    "# noisifyier.spatial_stationary_spread(spread=5, noise_model=\"gaussian\")\n",
    "noisifyier.gridding(\n",
    "    precision=3,\n",
    "    frequency=1,\n",
    "    reliability_model=\"uniform\",\n",
    "    # keywords = ('moving towards shop 1', )\n",
    ")"
   ]
  },
  {
   "cell_type": "code",
   "execution_count": null,
   "metadata": {},
   "outputs": [],
   "source": [
    "kmap = get_map(noisifyier)\n",
    "\n",
    "if INTERACTIVE_OUTPUT:\n",
    "    display(kmap)\n",
    "else:\n",
    "    display(Image(\"images/noise_7_gridding.png\"))\n",
    "\n",
    "if SAVE_HTML_MAPS:\n",
    "    kmap.save_to_html(config=kmap.config, file_name=\"maps/noise_7_gridding.html\")"
   ]
  },
  {
   "attachments": {},
   "cell_type": "markdown",
   "metadata": {},
   "source": [
    "## Sink locations\n"
   ]
  },
  {
   "cell_type": "code",
   "execution_count": null,
   "metadata": {},
   "outputs": [],
   "source": [
    "sink_parramatta = Sink(151.148183, -33.868556, 0.03, \"triangular_increasing\")\n",
    "sink_rugby_club = Sink(151.176491, -33.889456, 0.03, \"triangular_increasing\")\n",
    "\n",
    "noisifyier = Noisyfier(df_noiseless_trajectory)\n",
    "noisifyier.sink_locations(list_sinks=[sink_parramatta, sink_rugby_club], keywords=(\"moving\",))"
   ]
  },
  {
   "cell_type": "code",
   "execution_count": null,
   "metadata": {},
   "outputs": [],
   "source": [
    "kmap = get_map(noisifyier)\n",
    "\n",
    "if INTERACTIVE_OUTPUT:\n",
    "    display(kmap)\n",
    "else:\n",
    "    display(Image(\"images/noise_8_sink_locations.png\"))\n",
    "\n",
    "if SAVE_HTML_MAPS:\n",
    "    kmap.save_to_html(config=kmap.config, file_name=\"maps/noise_8_sink_locations.html\")"
   ]
  },
  {
   "attachments": {},
   "cell_type": "markdown",
   "metadata": {},
   "source": [
    "## Combining noise models\n"
   ]
  },
  {
   "cell_type": "code",
   "execution_count": null,
   "metadata": {},
   "outputs": [],
   "source": [
    "noisifyier = Noisyfier(df_noiseless_trajectory)\n",
    "\n",
    "noisifyier.spatial_stationary_spread(\n",
    "    spread=7,\n",
    "    keywords=(\n",
    "        \"moving\",\n",
    "        \"entering\",\n",
    "    ),\n",
    "    noise_model=\"gaussian\",\n",
    ")\n",
    "\n",
    "\n",
    "noisifyier.temporal_varying_spread(\n",
    "    lower_bound_sec=0,\n",
    "    upper_bound_sec=60,\n",
    "    lower_bound_spread_sec=1,\n",
    "    upper_bound_spread_sec=20,\n",
    "    noise_model=\"gumbel\",  # can be \"uniform\", \"gaussian\", \"gumbel\"\n",
    "    variational_model=\"periodic\",  # can be \"linear\" or \"periodic\"\n",
    ")\n",
    "\n",
    "noisifyier.spatial_varying_spread(\n",
    "    lower_bound_sec=0,\n",
    "    upper_bound_sec=5 * 60,\n",
    "    lower_bound_spread_m=1,\n",
    "    upper_bound_spread_m=30,\n",
    "    keywords=(\"dwell\",),\n",
    "    noise_model=\"gaussian\",\n",
    "    variational_model=\"periodic\",\n",
    ")\n",
    "\n",
    "noisifyier.spatial_varying_spread(\n",
    "    lower_bound_sec=0,\n",
    "    upper_bound_sec=180,\n",
    "    lower_bound_spread_m=1,\n",
    "    upper_bound_spread_m=8,\n",
    "    keywords=(\n",
    "        \"moving\",\n",
    "        \"entering\",\n",
    "    ),\n",
    "    noise_model=\"uniform\",\n",
    "    variational_model=\"periodic\",\n",
    ")\n",
    "\n",
    "noisifyier.missing_points(\n",
    "    frequency=0.6,\n",
    "    reliability_model=\"uniform\",\n",
    "    keywords=(),\n",
    ")\n",
    "\n",
    "noisifyier.missing_points(\n",
    "    frequency=0.4,\n",
    "    reliability_model=\"bathtub\",\n",
    "    keywords=(\"moving\",),\n",
    ")\n",
    "\n",
    "noisifyier.missing_points(frequency=0.95, reliability_model=\"triangular_increasing\", keywords=(\"dwell\",))\n",
    "\n",
    "noisifyier.gridding(\n",
    "    precision=3,\n",
    "    frequency=0.05,\n",
    "    reliability_model=\"uniform\",\n",
    ")\n",
    "\n",
    "noisifyier.erratic_points(\n",
    "    frequency=0.03,\n",
    "    reliability_model=\"uniform\",\n",
    "    keywords=(\"moving\",),\n",
    "    buffer_width_meters=50,\n",
    "    total_sampling_for_erratic_points=1000,\n",
    ")\n",
    "\n",
    "sink_rugby_club = Sink(151.176491, -33.889456, 0.03, \"triangular_increasing\")\n",
    "\n",
    "noisifyier.sink_locations(\n",
    "    list_sinks=[\n",
    "        sink_rugby_club,\n",
    "    ],\n",
    ")\n",
    "\n",
    "noisifyier.df_pings.head(15)"
   ]
  },
  {
   "cell_type": "code",
   "execution_count": null,
   "metadata": {},
   "outputs": [],
   "source": [
    "kmap = get_map(noisifyier)\n",
    "\n",
    "if INTERACTIVE_OUTPUT:\n",
    "    display(kmap)\n",
    "else:\n",
    "    display(Image(\"images/noise_9_combined.png\"))\n",
    "\n",
    "if SAVE_HTML_MAPS:\n",
    "    kmap.save_to_html(config=kmap.config, file_name=\"maps/noise_9_combined.html\")"
   ]
  }
 ],
 "metadata": {
  "kernelspec": {
   "display_name": "fragment117",
   "language": "python",
   "name": "python3"
  },
  "language_info": {
   "codemirror_mode": {
    "name": "ipython",
    "version": 3
   },
   "file_extension": ".py",
   "mimetype": "text/x-python",
   "name": "python",
   "nbconvert_exporter": "python",
   "pygments_lexer": "ipython3",
   "version": "3.11.4"
  },
  "orig_nbformat": 4
 },
 "nbformat": 4,
 "nbformat_minor": 2
}
