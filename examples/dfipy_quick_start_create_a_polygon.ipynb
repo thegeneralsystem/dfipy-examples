{
 "cells": [
  {
   "cell_type": "markdown",
   "metadata": {
    "id": "bi7Kh-T3GvW0"
   },
   "source": [
    "# `dfipy` Quick Start Guide - Creating a Polygon"
   ]
  },
  {
   "cell_type": "markdown",
   "metadata": {
    "id": "tKsolZgQ57pX"
   },
   "source": [
    "This notebook will guide you through querying a large synthetic traffic dataset in the General System Platform.\n",
    "\n",
    "Please refer to our [developers guide](https://developers.generalsystem.com) for the most up-to-date companion documentation.\n",
    "\n",
    "Additional resources and help are available on the [General System support pages](https://support.generalsystem.com)."
   ]
  },
  {
   "cell_type": "markdown",
   "metadata": {},
   "source": [
    "### Let's go"
   ]
  },
  {
   "cell_type": "markdown",
   "metadata": {
    "id": "s-NhscyQuw3l"
   },
   "source": [
    "### Install Dependencies"
   ]
  },
  {
   "cell_type": "markdown",
   "metadata": {
    "id": "IAWSqCTZ57pZ"
   },
   "source": [
    "If you are using Google Colab, this will set up all required dependencies:"
   ]
  },
  {
   "cell_type": "code",
   "execution_count": null,
   "metadata": {
    "id": "J7j2yXMw57pZ"
   },
   "outputs": [],
   "source": [
    "from copy import deepcopy\n",
    "from getpass import getpass\n",
    "from typing import Dict, List, Optional, Union\n",
    "\n",
    "import geopandas as gpd\n",
    "import pandas as pd\n",
    "import requests\n",
    "from IPython.display import Image\n",
    "from shapely import points\n",
    "from shapely.geometry import Polygon\n",
    "\n",
    "# Google Colab setup\n",
    "try:\n",
    "    from google.colab import output\n",
    "\n",
    "    output.enable_custom_widget_manager()  # allows KeplerGL map to display\n",
    "\n",
    "    ! pip install dfipy==9.0.1 h3==3.7.6 keplergl==0.3.2\n",
    "\n",
    "    import dfi.models.filters.geometry as geom\n",
    "    from dfi import Client\n",
    "    from dfi.models.filters import TimeRange\n",
    "    from keplergl import KeplerGl\n",
    "\n",
    "except ModuleNotFoundError:\n",
    "    import dfi.models.filters.geometry as geom\n",
    "    from dfi import Client\n",
    "    from dfi.models.filters import TimeRange\n",
    "    from keplergl import KeplerGl\n"
   ]
  },
  {
   "cell_type": "markdown",
   "metadata": {
    "id": "7xF3h5Et57pa"
   },
   "source": [
    "Next, enter you API access token"
   ]
  },
  {
   "cell_type": "code",
   "execution_count": null,
   "metadata": {
    "id": "SHojFHXa57pa"
   },
   "outputs": [],
   "source": [
    "api_token = getpass(\"Enter your API access token: \")\n"
   ]
  },
  {
   "cell_type": "markdown",
   "metadata": {
    "id": "dQ6fuCMYNxrm"
   },
   "source": [
    "This code below will load the correct instance and namespace to allow you access the desired dataset."
   ]
  },
  {
   "cell_type": "code",
   "execution_count": null,
   "metadata": {
    "id": "cmEozAGrHhNf"
   },
   "outputs": [],
   "source": [
    "base_url = \"https://api.aspen.generalsystem.com\"\n",
    "dataset_id = \"gs.prod-3\"\n",
    "\n",
    "dfi = Client(\n",
    "    api_token=api_token,\n",
    "    base_url=base_url,\n",
    "    progress_bar=True,\n",
    ")\n"
   ]
  },
  {
   "cell_type": "markdown",
   "metadata": {
    "id": "RebODFs_47at"
   },
   "source": [
    "### This tutorial will go over some of the basics of how to use DFI. It's designed for new users who are less familiar with Python.\n",
    "\n",
    "In this tutorial we will cover some of the basic concepts such as:\n",
    "\n",
    "- Building and displaying a single polygon\n",
    "- Building and displaying multiple polygons\n",
    "- Adding polygons to existing maps\n",
    "- Saving polygon configurations\n",
    "\n"
   ]
  },
  {
   "cell_type": "markdown",
   "metadata": {
    "id": "f94xPEe7Aa8W"
   },
   "source": [
    "# First we will define our polygon using known points.\n",
    "\n",
    "This works by defining what you want your polygon to be called then listing the coordinates in [longitude, latitude] in decimal format"
   ]
  },
  {
   "cell_type": "code",
   "execution_count": null,
   "metadata": {
    "id": "-JCWdH2dAkMN"
   },
   "outputs": [],
   "source": [
    "tower_bridge = [\n",
    "    [-0.07497244569200447, 51.506879956036116],\n",
    "    [-0.07417159032214424, 51.50674703079539],\n",
    "    [-0.07577330106092327, 51.50420476093609],\n",
    "    [-0.07646737571403371, 51.50438754324021],\n",
    "    [-0.07497244569200447, 51.506879956036116],\n",
    "]\n"
   ]
  },
  {
   "cell_type": "markdown",
   "metadata": {
    "id": "4_ZbSHQAFCfp"
   },
   "source": [
    "Next we visualise the results with kepler, via the `show_map` function defined below."
   ]
  },
  {
   "cell_type": "code",
   "execution_count": null,
   "metadata": {},
   "outputs": [],
   "source": [
    "def show_map(\n",
    "    list_polygons: Optional[List[List[List[float]]]] = None,\n",
    "    dict_dfs: Optional[Dict[str, Union[gpd.GeoDataFrame, pd.DataFrame]]] = None,\n",
    "    map_height: int = 1200,\n",
    "    config: Optional[dict] = None,\n",
    ") -> KeplerGl:\n",
    "    if list_polygons is None:\n",
    "        list_polygons = []\n",
    "\n",
    "    dict_polygons = {f\"polygon {idx}\": poly for idx, poly in enumerate(list_polygons)}\n",
    "\n",
    "    kepler_data = {}\n",
    "\n",
    "    if len(dict_polygons) > 0:\n",
    "        kepler_data.update(\n",
    "            {\n",
    "                \"polygons\": gpd.GeoDataFrame(\n",
    "                    dict_polygons.keys(),\n",
    "                    geometry=[Polygon(x) for x in dict_polygons.values()],\n",
    "                )\n",
    "            }\n",
    "        )\n",
    "\n",
    "    if dict_dfs is not None:\n",
    "        for key, df in dict_dfs.items():\n",
    "            kepler_data.update({key: df.copy()})\n",
    "\n",
    "    if config is None:\n",
    "        return KeplerGl(data=deepcopy(kepler_data), height=map_height)\n",
    "    return KeplerGl(data=deepcopy(kepler_data), height=map_height, config=config)\n"
   ]
  },
  {
   "cell_type": "code",
   "execution_count": null,
   "metadata": {
    "id": "-XdEDdLfFDRD"
   },
   "outputs": [],
   "source": [
    "show_map(map_height=400, list_polygons=[tower_bridge])\n"
   ]
  },
  {
   "cell_type": "markdown",
   "metadata": {
    "id": "8AclkXIWNV7D"
   },
   "source": [
    "We are able to use the same process to show multiple polygons"
   ]
  },
  {
   "cell_type": "code",
   "execution_count": null,
   "metadata": {
    "id": "Pu6y85XSNZdJ"
   },
   "outputs": [],
   "source": [
    "tower_bridge = [\n",
    "    [-0.07497244569200447, 51.506879956036116],\n",
    "    [-0.07417159032214424, 51.50674703079539],\n",
    "    [-0.07577330106092327, 51.50420476093609],\n",
    "    [-0.07646737571403371, 51.50438754324021],\n",
    "    [-0.07497244569200447, 51.506879956036116],\n",
    "]\n",
    "london_bridge = [\n",
    "    [-0.08774610658001879, 51.50673153372835],\n",
    "    [-0.08845738460526711, 51.5068549133129],\n",
    "    [-0.08752456096646478, 51.509104717729485],\n",
    "    [-0.08703482855566101, 51.50898860151003],\n",
    "    [-0.08774610658001879, 51.50673153372835],\n",
    "]\n",
    "southwark_bridge = [\n",
    "    [-0.09464692707221982, 51.50800378328573],\n",
    "    [-0.09450260195906579, 51.5079669682238],\n",
    "    [-0.09330918296130603, 51.50976974829333],\n",
    "    [-0.09366147964557642, 51.509867198333346],\n",
    "    [-0.09464692707221982, 51.50800378328573],\n",
    "]\n"
   ]
  },
  {
   "cell_type": "markdown",
   "metadata": {
    "id": "WRlHqq3IQ-Bl"
   },
   "source": [
    "Next we run the same code as before just listing out all of the desired polygons"
   ]
  },
  {
   "cell_type": "code",
   "execution_count": null,
   "metadata": {
    "id": "sUD6uWTQOZud"
   },
   "outputs": [],
   "source": [
    "show_map(map_height=400, list_polygons=[tower_bridge, london_bridge, southwark_bridge])\n"
   ]
  },
  {
   "cell_type": "markdown",
   "metadata": {
    "id": "ERvKZPb8X4GG"
   },
   "source": [
    "We are also able to visualise a map and use the built in kepler functions to create a polygon. The steps are as follows:\n",
    "\n",
    "- First, you run the code below\n",
    "- Select the polygon symbol on the right side of the map and draw your polygon\n",
    "- Copy this geometry by right clicking on the inside of the polygon\n",
    "- Paste the geometry into a separate cell and label it accordingly"
   ]
  },
  {
   "cell_type": "code",
   "execution_count": null,
   "metadata": {
    "id": "3Cdo-sOmV0Rm"
   },
   "outputs": [],
   "source": [
    "# Display the gif example of how to draw a polygon\n",
    "image_path = (\n",
    "    \"https://raw.githubusercontent.com/thegeneralsystem/dfipy-examples/main/examples/pictures/draw_a_polygon.gif\"\n",
    ")\n",
    "Image(image_path)\n"
   ]
  },
  {
   "cell_type": "code",
   "execution_count": null,
   "metadata": {
    "id": "BqoJV1TpYay-"
   },
   "outputs": [],
   "source": [
    "# this creates a blank Kepler map, centered on London so that we can draw a polygon on it\n",
    "\n",
    "url = \"https://raw.githubusercontent.com/thegeneralsystem/dfipy-examples/main/examples/kepler_config/create_a_polygon.json\"\n",
    "response = requests.get(url, timeout=30)\n",
    "kepler_config = response.json()\n",
    "\n",
    "show_map(map_height=400, config=kepler_config)\n"
   ]
  },
  {
   "cell_type": "markdown",
   "metadata": {
    "id": "lkInP6r3XjR1"
   },
   "source": [
    "Next we paste the coordinates to a variable"
   ]
  },
  {
   "cell_type": "code",
   "execution_count": null,
   "metadata": {
    "id": "B0qguu2gZmi8"
   },
   "outputs": [],
   "source": [
    "# Display the video example of how to format the new variable\n",
    "image_path = (\n",
    "    \"https://raw.githubusercontent.com/thegeneralsystem/dfipy-examples/main/examples/pictures/paste_coordinates.gif\"\n",
    ")\n",
    "Image(image_path)\n"
   ]
  },
  {
   "cell_type": "code",
   "execution_count": null,
   "metadata": {
    "id": "slAGU-P5S7ce"
   },
   "outputs": [],
   "source": [
    "waterloo_bridge = [\n",
    "    [-0.11833561399725126, 51.50956788006355],\n",
    "    [-0.11741263557939023, 51.50984639894247],\n",
    "    [-0.11534292639998052, 51.50739189270742],\n",
    "    [-0.11615402864550156, 51.5070785419682],\n",
    "    [-0.11833561399725126, 51.50956788006355],\n",
    "]\n"
   ]
  },
  {
   "cell_type": "markdown",
   "metadata": {
    "id": "5Gd_LBjkaYn0"
   },
   "source": [
    "After drawing your polygon paste the coordinates with this format:\n",
    "\n",
    "`Polygon_Name=[[long1, lat1], [long2, lat2], ect]`\n",
    "\n",
    "Below is a dictionary of example polygons created from pasted coordinates"
   ]
  },
  {
   "cell_type": "code",
   "execution_count": null,
   "metadata": {
    "id": "czxHGM1Xfx1I"
   },
   "outputs": [],
   "source": [
    "bridge_dict = {\n",
    "    \"tower_bridge\": [\n",
    "        [-0.07497244569200447, 51.506879956036116],\n",
    "        [-0.07417159032214424, 51.50674703079539],\n",
    "        [-0.07577330106092327, 51.50420476093609],\n",
    "        [-0.07646737571403371, 51.50438754324021],\n",
    "        [-0.07497244569200447, 51.506879956036116],\n",
    "    ],\n",
    "    \"london_bridge\": [\n",
    "        [-0.08774610658001879, 51.50673153372835],\n",
    "        [-0.08845738460526711, 51.5068549133129],\n",
    "        [-0.08752456096646478, 51.509104717729485],\n",
    "        [-0.08703482855566101, 51.50898860151003],\n",
    "        [-0.08774610658001879, 51.50673153372835],\n",
    "    ],\n",
    "    \"southwark_bridge\": [\n",
    "        [-0.09464692707221982, 51.50800378328573],\n",
    "        [-0.09450260195906579, 51.5079669682238],\n",
    "        [-0.09330918296130603, 51.50976974829333],\n",
    "        [-0.09366147964557642, 51.509867198333346],\n",
    "        [-0.09464692707221982, 51.50800378328573],\n",
    "    ],\n",
    "    \"waterloo_bridge\": [\n",
    "        [-0.11833561399725126, 51.50956788006355],\n",
    "        [-0.11741263557939023, 51.50984639894247],\n",
    "        [-0.11534292639998052, 51.50739189270742],\n",
    "        [-0.11615402864550156, 51.5070785419682],\n",
    "        [-0.11833561399725126, 51.50956788006355],\n",
    "    ],\n",
    "    \"westminster_bridge\": [\n",
    "        [-0.12358711992523448, 51.50076409572846],\n",
    "        [-0.12357022401304299, 51.501063851357834],\n",
    "        [-0.11992915504511152, 51.50091660322511],\n",
    "        [-0.11993760300072383, 51.500643141144444],\n",
    "        [-0.12358711992523448, 51.50076409572846],\n",
    "    ],\n",
    "    \"blackfriers_bridge\": [\n",
    "        [-0.10461014353003963, 51.51097942297182],\n",
    "        [-0.10409203766559522, 51.51097942297182],\n",
    "        [-0.10413404624939136, 51.50844332058941],\n",
    "        [-0.1046801578360697, 51.50846075132744],\n",
    "        [-0.10461014353003963, 51.51097942297182],\n",
    "    ],\n",
    "}\n"
   ]
  },
  {
   "cell_type": "markdown",
   "metadata": {
    "id": "oaypKnfzbcC1"
   },
   "source": [
    "# Saving as multiple polygons to one map"
   ]
  },
  {
   "cell_type": "markdown",
   "metadata": {
    "id": "1EXiQIuUAt7Q"
   },
   "source": [
    "It is often easier to save multiple polygons that will be referenced in the future to one map. This simplifies the code and makes it so we can easily add data and export our work to share with others.\n",
    "\n",
    "The first step is to assign the map we already created to a new variable to simplify the code."
   ]
  },
  {
   "cell_type": "code",
   "execution_count": null,
   "metadata": {
    "id": "SXhRqx5HYbkK"
   },
   "outputs": [],
   "source": [
    "map_1 = show_map(\n",
    "    map_height=400,\n",
    "    list_polygons=[waterloo_bridge, tower_bridge, london_bridge, southwark_bridge],\n",
    ")\n"
   ]
  },
  {
   "cell_type": "markdown",
   "metadata": {
    "id": "hIuffew0Bjjl"
   },
   "source": [
    "Now we can show the map with far less code."
   ]
  },
  {
   "cell_type": "code",
   "execution_count": null,
   "metadata": {
    "id": "TTqLQVDvYyeb"
   },
   "outputs": [],
   "source": [
    "map_1\n"
   ]
  },
  {
   "cell_type": "markdown",
   "metadata": {
    "id": "gR5xvhGDfsb1"
   },
   "source": [
    "# Saving the polygons"
   ]
  },
  {
   "cell_type": "markdown",
   "metadata": {
    "id": "risvBBN1PYzS"
   },
   "source": [
    "You are able to export and save your polygons to share with co-workers by using the below code\n"
   ]
  },
  {
   "cell_type": "code",
   "execution_count": null,
   "metadata": {
    "id": "zQ0I6mJQAe9y"
   },
   "outputs": [],
   "source": [
    "map_1.save_to_html(file_name=\"map.html\")\n"
   ]
  },
  {
   "cell_type": "markdown",
   "metadata": {
    "id": "83nkCRy0AoNa"
   },
   "source": [
    "Replace 'map.html' with the desired file name and extension. The file will be saved in your current working directory.\n",
    "\n",
    "You can then download the file to be shared and used on other projects."
   ]
  },
  {
   "cell_type": "markdown",
   "metadata": {},
   "source": [
    "# Query the Polygons"
   ]
  },
  {
   "cell_type": "markdown",
   "metadata": {},
   "source": [
    "Now that we have polygons, what can we do with them? While there are many functions in DFI, we will only be using a few during this example. We will focus on functions that will allow us to collect all the records inside of our polygons, then figure out the unique records, and finally visualise the results.\n",
    "\n",
    "**Bare in mind the synthetic data set the DFI is querying is over 92Bn records**\n",
    "\n",
    "Below is a basic query to introduce you to the idea. First, your time window must be defined using the [TimeRange](https://dfipy.docs.generalsystem.com/reference/models/filters/time_range/) class: in this example we used the `from_strings` method. Next, define the geometry you want to search within via the [Polygon](https://dfipy.docs.generalsystem.com/reference/models/filters/geometry/polygon/) class, which is part of the geometry module. Finally, you can use `query.records()`, with the geometry and time range as arguments, to retrieve the data from the DFI!"
   ]
  },
  {
   "cell_type": "code",
   "execution_count": null,
   "metadata": {},
   "outputs": [],
   "source": [
    "time_range = TimeRange().from_strings(min_time=\"2022-01-01T08:00:00+00:00\", max_time=\"2022-01-01T09:30:00+00:00\")\n",
    "tower_bridge_polygon = geom.Polygon().from_raw_coords(coordinates=tower_bridge, geojson=True)\n",
    "\n",
    "tower_bridge_records = dfi.query.records(dataset_id=dataset_id, geometry=tower_bridge_polygon, time_range=time_range)\n",
    "print(f\"Records downloaded: {len(tower_bridge_records):,}\")\n",
    "print(f\"Vehicles found: {len(tower_bridge_records.id.unique()):,}\")\n"
   ]
  },
  {
   "cell_type": "markdown",
   "metadata": {},
   "source": [
    "For this example we will determine the most utilized bridge to cross the river Thames in downtown London between the hours of 8:00 to 9:30. Utilizing our polygons already have drawn, lets see which is the busiest."
   ]
  },
  {
   "cell_type": "code",
   "execution_count": null,
   "metadata": {},
   "outputs": [],
   "source": [
    "# Create polygon geometries for, and query, each bridge in the dictionary\n",
    "bridge_records = {}\n",
    "for bridge_name, bridge_coords in bridge_dict.items():\n",
    "    bridge_polygon = geom.Polygon().from_raw_coords(coordinates=bridge_coords, geojson=True)\n",
    "\n",
    "    records = dfi.query.records(dataset_id=dataset_id, geometry=bridge_polygon, time_range=time_range)\n",
    "    # Create Shapely Points from coordinates column and form a GeoDataFrame\n",
    "    bridge_records[bridge_name] = gpd.GeoDataFrame(\n",
    "        records[[\"id\", \"time\"]], geometry=points(records.coordinate.to_list()), crs=\"EPSG:4326\"\n",
    "    )\n",
    "for bridge_name, bridge_df in bridge_records.items():\n",
    "    print(f\"Vehicles found on {bridge_name}: {len(bridge_df.id.unique())}\")\n"
   ]
  },
  {
   "cell_type": "markdown",
   "metadata": {},
   "source": [
    "After this quick search it is easy to see the busiest bridge is by far the London bridge, with 698 unique vehicle IDs passing through within the time range. Southwark bridge is the least busy bridge used with only 4 vehicles.\n",
    "\n",
    "Finally lets visualize the results for the busiest bridge using a heatmap.\n"
   ]
  },
  {
   "cell_type": "code",
   "execution_count": null,
   "metadata": {},
   "outputs": [],
   "source": [
    "kepler_map = show_map(map_height=400, dict_dfs=bridge_records, config=kepler_config)\n",
    "kepler_map\n"
   ]
  },
  {
   "cell_type": "markdown",
   "metadata": {
    "id": "QgsjPH8oA-On"
   },
   "source": [
    "End of notebook"
   ]
  }
 ],
 "metadata": {
  "colab": {
   "provenance": []
  },
  "kernelspec": {
   "display_name": "Python 3 (ipykernel)",
   "language": "python",
   "name": "python3"
  },
  "language_info": {
   "codemirror_mode": {
    "name": "ipython",
    "version": 3
   },
   "file_extension": ".py",
   "mimetype": "text/x-python",
   "name": "python",
   "nbconvert_exporter": "python",
   "pygments_lexer": "ipython3",
   "version": "3.11.5"
  }
 },
 "nbformat": 4,
 "nbformat_minor": 4
}
